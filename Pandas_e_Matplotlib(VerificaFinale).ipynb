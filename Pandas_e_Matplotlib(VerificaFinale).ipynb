{
  "nbformat": 4,
  "nbformat_minor": 0,
  "metadata": {
    "kernelspec": {
      "display_name": "Python 3",
      "language": "python",
      "name": "python3"
    },
    "language_info": {
      "codemirror_mode": {
        "name": "ipython",
        "version": 3
      },
      "file_extension": ".py",
      "mimetype": "text/x-python",
      "name": "python",
      "nbconvert_exporter": "python",
      "pygments_lexer": "ipython3",
      "version": "3.7.4"
    },
    "colab": {
      "provenance": [],
      "include_colab_link": true
    }
  },
  "cells": [
    {
      "cell_type": "markdown",
      "metadata": {
        "id": "view-in-github",
        "colab_type": "text"
      },
      "source": [
        "<a href=\"https://colab.research.google.com/github/Leonardodarienzo/Pandas/blob/main/Pandas_e_Matplotlib(VerificaFinale).ipynb\" target=\"_parent\"><img src=\"https://colab.research.google.com/assets/colab-badge.svg\" alt=\"Open In Colab\"/></a>"
      ]
    },
    {
      "cell_type": "code",
      "metadata": {
        "id": "wfftQ4Utb2ol"
      },
      "source": [
        "import pandas as pd"
      ],
      "execution_count": null,
      "outputs": []
    },
    {
      "cell_type": "code",
      "metadata": {
        "id": "C6T4Dhlwb2oo"
      },
      "source": [
        "df1 = pd.read_csv('https://github.com/italia/covid19-opendata-vaccini/blob/master/dati/somministrazioni-vaccini-latest.csv?raw=true')\n",
        "df1"
      ],
      "execution_count": null,
      "outputs": []
    },
    {
      "cell_type": "code",
      "metadata": {
        "id": "31qh82brb2os"
      },
      "source": [
        "dfVacc = df1.groupby(['area'], as_index=False)['d1'].sum()\n",
        "dfVacc"
      ],
      "execution_count": null,
      "outputs": []
    },
    {
      "cell_type": "code",
      "metadata": {
        "id": "zFZeScLHb2ot"
      },
      "source": [
        "df2 = pd.read_csv('https://raw.githubusercontent.com/italia/covid19-opendata-vaccini/master/dati/platea.csv')\n",
        "df2"
      ],
      "execution_count": null,
      "outputs": []
    },
    {
      "cell_type": "code",
      "metadata": {
        "id": "IgoWmjIGb2ou"
      },
      "source": [
        "dfTotale = df2.groupby(['area'], as_index=False).sum()\n",
        "dfTotale"
      ],
      "execution_count": null,
      "outputs": []
    },
    {
      "cell_type": "code",
      "source": [
        "import matplotlib.pyplot as plt\n",
        "import numpy as np"
      ],
      "metadata": {
        "id": "Wy8Q5ajztGcZ"
      },
      "execution_count": null,
      "outputs": []
    },
    {
      "cell_type": "code",
      "source": [
        "labels = dfVacc['area']\n",
        "dati = dfVacc['d1']\n",
        "\n",
        "fig, ax = plt.subplots(figsize=(15,8))\n",
        "ax.bar(labels, dati, label='totale vaccinati in ogni regione')"
      ],
      "metadata": {
        "id": "sQ1Cf78_p8aG"
      },
      "execution_count": null,
      "outputs": []
    },
    {
      "cell_type": "code",
      "source": [
        "labels = dfVacc['area']\n",
        "dati = dfVacc['d1']\n",
        "\n",
        "fig, ax = plt.subplots(figsize=(15,8))\n",
        "ax.bar(labels, dati, label='totale vaccinati in ogni regione')\n",
        "\n",
        "ax.set_ylabel('abitanti (in milioni)')\n",
        "ax.set_title('popolazione vaccinata nelle varie regioni')\n",
        "ax.set_xticklabels(labels) \n",
        "ax.legend()"
      ],
      "metadata": {
        "id": "rxenJ0_atJkp"
      },
      "execution_count": null,
      "outputs": []
    },
    {
      "cell_type": "code",
      "source": [
        "fig, ax = plt.subplots(figsize=(15,8))\n",
        "ax.barh(labels, dati, label='totale vaccinati in ogni regione')"
      ],
      "metadata": {
        "id": "_8VJPA5JqTCz"
      },
      "execution_count": null,
      "outputs": []
    },
    {
      "cell_type": "code",
      "source": [
        "plt.figure(figsize=(16, 8))\n",
        "plt.pie(dati, labels=labels, autopct='%1.1f%%')\n",
        "plt.show()"
      ],
      "metadata": {
        "id": "w-44UbWvqcM7"
      },
      "execution_count": null,
      "outputs": []
    },
    {
      "cell_type": "code",
      "metadata": {
        "id": "6PJ2_HQsb2ow"
      },
      "source": [
        "labels = dfTotale['area']\n",
        "vaccinati = dfVacc['d1']\n",
        "popolazione = dfTotale['totale_popolazione']\n",
        "\n",
        "x = np.arange(len(labels))  # the label locations\n",
        "width = 0.35  # the width of the bars\n",
        "\n",
        "fig, ax = plt.subplots(figsize=(15,8))\n",
        "ax.bar(x - width/2, vaccinati, width, label='vaccinato')\n",
        "ax.bar(x + width/2, popolazione, width, label='popolazione')\n",
        "\n",
        "# Add some text for labels, title and custom x-axis tick labels, etc.\n",
        "ax.set_ylabel('abitanti')\n",
        "ax.set_xlabel('regioni')\n",
        "ax.set_title('vaccinati sul totale della popolazione')\n",
        "ax.set_xticks(x)\n",
        "ax.set_xticklabels(labels) \n",
        "ax.legend()\n",
        "\n",
        "fig.tight_layout()\n",
        "\n",
        "plt.show()"
      ],
      "execution_count": null,
      "outputs": []
    },
    {
      "cell_type": "code",
      "metadata": {
        "id": "lO_fTHKlb2o2"
      },
      "source": [
        "labels = dfTotale['area']\n",
        "dati = dfVacc['d1']/dfTotale['totale_popolazione']*100\n",
        "dati.sort_values(ascending=False, inplace=True)\n",
        "\n",
        "fig, ax = plt.subplots(figsize=(15,8))\n",
        "ax.bar(labels, dati, label='percentuale di vaccinati')\n",
        "\n",
        "# Add some text for labels, title and custom x-axis tick labels, etc.\n",
        "ax.set_ylabel('percentuale')\n",
        "ax.set_xlabel('regioni')\n",
        "ax.set_title('percentuale di vaccinati sul totale della popolazione')\n",
        "ax.set_xticks(x)\n",
        "ax.set_xticklabels(labels) \n",
        "ax.legend()\n",
        "\n",
        "fig.tight_layout()\n",
        "\n",
        "plt.show()"
      ],
      "execution_count": null,
      "outputs": []
    },
    {
      "cell_type": "markdown",
      "source": [
        "**Esercizi**\n",
        "\n",
        "1. il numero di casi totali in Lombardia"
      ],
      "metadata": {
        "id": "tGmyLjcEDyZr"
      }
    },
    {
      "cell_type": "code",
      "source": [
        "import pandas as pd"
      ],
      "metadata": {
        "id": "zyYSkBjnGN-Y"
      },
      "execution_count": null,
      "outputs": []
    },
    {
      "cell_type": "code",
      "source": [
        "df = pd.read_csv('https://raw.githubusercontent.com/pcm-dpc/COVID-19/master/dati-province/dpc-covid19-ita-province-20221119.csv')\n",
        "df"
      ],
      "metadata": {
        "id": "Kl8RQp1jGIsx"
      },
      "execution_count": null,
      "outputs": []
    },
    {
      "cell_type": "code",
      "source": [
        "df[df.denominazione_regione=='Lombardia'][[\"totale_casi\"]].sum()"
      ],
      "metadata": {
        "id": "Ms6S5oMoD845"
      },
      "execution_count": null,
      "outputs": []
    },
    {
      "cell_type": "markdown",
      "source": [
        "2. il numero di casi totali in ogni regione. Ordinare in ordine decrescente in base al numero di casi"
      ],
      "metadata": {
        "id": "Q6SV8beTD9PA"
      }
    },
    {
      "cell_type": "code",
      "source": [
        "dfgroup2=df.groupby('denominazione_regione', as_index= False).sum()\n",
        "dfgroup2"
      ],
      "metadata": {
        "id": "k6tCLSE6EBBJ"
      },
      "execution_count": null,
      "outputs": []
    },
    {
      "cell_type": "markdown",
      "source": [
        "3. le regioni che hanno più di un milione di casi"
      ],
      "metadata": {
        "id": "cJpCG84PEBTY"
      }
    },
    {
      "cell_type": "code",
      "source": [
        "dfgroup2[dfgroup2.totale_casi>1000000]"
      ],
      "metadata": {
        "id": "w86CPL8nEDii"
      },
      "execution_count": null,
      "outputs": []
    },
    {
      "cell_type": "markdown",
      "source": [
        "4. il numero di casi in Italia"
      ],
      "metadata": {
        "id": "_VGmQtsrEKV5"
      }
    },
    {
      "cell_type": "code",
      "source": [
        "df[df.stato=='ITA'][[\"totale_casi\"]].sum()"
      ],
      "metadata": {
        "id": "5RoXCJQLELbZ"
      },
      "execution_count": null,
      "outputs": []
    },
    {
      "cell_type": "markdown",
      "source": [
        "5. la percentuale di casi in ogni regione rispetto al totale dei casi"
      ],
      "metadata": {
        "id": "Vq9Z5F6fEL0R"
      }
    },
    {
      "cell_type": "code",
      "source": [
        "dfgroup = df.groupby(\"denominazione_regione\")[[\"totale_casi\"]].sum()\n",
        "dfgroup / df[\"totale_casi\"] * 100"
      ],
      "metadata": {
        "id": "MUZbWKLhEN7R"
      },
      "execution_count": null,
      "outputs": []
    },
    {
      "cell_type": "markdown",
      "source": [
        "**Esercizi 2**\n",
        "\n",
        "1. un grafico a barre verticali per la richiesta numero 2"
      ],
      "metadata": {
        "id": "jiOhBM2bEOXR"
      }
    },
    {
      "cell_type": "code",
      "source": [
        "import matplotlib.pyplot as plt\n",
        "import numpy as np"
      ],
      "metadata": {
        "id": "JI111N8GLElJ"
      },
      "execution_count": null,
      "outputs": []
    },
    {
      "cell_type": "code",
      "source": [
        "labels = dfgroup2['denominazione_regione']\n",
        "dati2 = dfgroup2['totale_casi']\n",
        "\n",
        "fig, ax = plt.subplots(figsize=(40,14))\n",
        "ax.bar(labels, dati2, label='totale casi in ogni regione')\n",
        "\n",
        "ax.set_ylabel('abitanti (in milioni)')\n",
        "ax.set_title('casi in tutte le varie regioni')\n",
        "ax.set_xticklabels(labels) \n",
        "ax.legend()"
      ],
      "metadata": {
        "id": "FKDUdf5ZESJC"
      },
      "execution_count": null,
      "outputs": []
    },
    {
      "cell_type": "markdown",
      "source": [
        "2. un grafico a barre orizzontali per la richiesta numero 2"
      ],
      "metadata": {
        "id": "qBbC2aAmES8B"
      }
    },
    {
      "cell_type": "code",
      "source": [
        "fig, ax = plt.subplots(figsize=(15,8))\n",
        "ax.barh(labels, dati2, label='totale casi in ogni regione')"
      ],
      "metadata": {
        "id": "GRbfL3I8EU-R",
        "colab": {
          "base_uri": "https://localhost:8080/",
          "height": 513
        },
        "outputId": "86c6481f-477c-4d7f-fdce-004c9a667540"
      },
      "execution_count": null,
      "outputs": [
        {
          "output_type": "execute_result",
          "data": {
            "text/plain": [
              "<BarContainer object of 21 artists>"
            ]
          },
          "metadata": {},
          "execution_count": 11
        },
        {
          "output_type": "display_data",
          "data": {
            "text/plain": [
              "<Figure size 1080x576 with 1 Axes>"
            ],
            "image/png": "[encoded data removed]"
          },
          "metadata": {
            "needs_background": "light"
          }
        }
      ]
    },
    {
      "cell_type": "markdown",
      "source": [
        "3. un grafico a torta per la richiesta numero 5"
      ],
      "metadata": {
        "id": "HkndlLmJEVTS"
      }
    },
    {
      "cell_type": "code",
      "source": [
        "plt.figure(figsize=(22, 10))\n",
        "plt.pie(dati2, labels=labels, autopct='%1.1f%%')\n",
        "plt.show()"
      ],
      "metadata": {
        "id": "zbXJrPaDKCZ5"
      },
      "execution_count": null,
      "outputs": []
    }
  ]
}